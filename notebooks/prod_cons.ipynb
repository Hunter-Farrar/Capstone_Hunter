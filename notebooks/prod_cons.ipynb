{
 "cells": [
  {
   "cell_type": "code",
   "execution_count": null,
   "id": "43fc81e1-a270-488d-b2dd-86727cceab16",
   "metadata": {},
   "outputs": [],
   "source": [
    "import pandas as pd"
   ]
  },
  {
   "cell_type": "code",
   "execution_count": null,
   "id": "80cc25d0-858d-46bd-8d2d-2984b83222f9",
   "metadata": {},
   "outputs": [],
   "source": [
    "production = pd.read_csv('../data/energy_production.csv', skiprows = 4, header = 1)"
   ]
  },
  {
   "cell_type": "code",
   "execution_count": null,
   "id": "b7a4b6a1-11f9-4d40-a0d8-fa7bf6700a87",
   "metadata": {},
   "outputs": [],
   "source": [
    "production"
   ]
  },
  {
   "cell_type": "markdown",
   "id": "300bc3c0-5933-4c9a-9ef5-484eaeb0d0d2",
   "metadata": {},
   "source": [
    "Each number in rows are how many QUADRILLION BTU produced"
   ]
  },
  {
   "cell_type": "code",
   "execution_count": null,
   "id": "19ab4667-5b4d-49a8-b786-0b5d787e876d",
   "metadata": {},
   "outputs": [],
   "source": [
    "production = production.rename(columns = {'Unnamed: 0':'Year'})"
   ]
  },
  {
   "cell_type": "code",
   "execution_count": null,
   "id": "7e73e4f4-853f-44d8-95f9-851894ac1806",
   "metadata": {},
   "outputs": [],
   "source": [
    "consumption = pd.read_csv('../data/energy_consumption.csv', skiprows = 4, header = 1)"
   ]
  },
  {
   "cell_type": "code",
   "execution_count": null,
   "id": "10999c72-55c7-46c5-9306-c0b5e9c53cdf",
   "metadata": {},
   "outputs": [],
   "source": [
    "consumption"
   ]
  },
  {
   "cell_type": "code",
   "execution_count": null,
   "id": "8885a3af-9fbb-4fc5-9f05-abe5f6dff6c6",
   "metadata": {},
   "outputs": [],
   "source": [
    "consumption.columns"
   ]
  },
  {
   "cell_type": "code",
   "execution_count": null,
   "id": "d7113cb6-e698-4715-a58c-ae27c40c06b1",
   "metadata": {},
   "outputs": [],
   "source": [
    "con = consumption.rename(columns = {'U.S. primary energy consumption by major sources, 1950-2023':'Year'})"
   ]
  },
  {
   "cell_type": "code",
   "execution_count": null,
   "id": "d04a8523-cfa9-4928-a249-7e34bbd5c8ba",
   "metadata": {},
   "outputs": [],
   "source": [
    "con = con.tail(75)"
   ]
  },
  {
   "cell_type": "code",
   "execution_count": null,
   "id": "9123aee2-8052-46b6-89d5-0fc8716a579b",
   "metadata": {},
   "outputs": [],
   "source": [
    "con"
   ]
  },
  {
   "cell_type": "code",
   "execution_count": null,
   "id": "647aa3b6-19a8-479e-bd91-012e292edee0",
   "metadata": {},
   "outputs": [],
   "source": [
    "con.columns"
   ]
  },
  {
   "cell_type": "code",
   "execution_count": null,
   "id": "5724b267-19a5-43c3-9f21-928536ef8804",
   "metadata": {},
   "outputs": [],
   "source": [
    "con = con.rename(columns ={'Unnamed: 1':'Coal', 'Unnamed: 2':'Natural_Gas', 'Unnamed: 3':'Petroleum', 'Unnamed: 4':'Nuclear', 'Unnamed: 5':'Renewables'})"
   ]
  },
  {
   "cell_type": "code",
   "execution_count": null,
   "id": "1e1dca5a-1849-48d2-a02f-d979794fa25d",
   "metadata": {},
   "outputs": [],
   "source": [
    "con = con.tail(74)"
   ]
  },
  {
   "cell_type": "code",
   "execution_count": null,
   "id": "ac87778d-f65f-4497-a519-47b6f9bdc75d",
   "metadata": {},
   "outputs": [],
   "source": [
    "con = con.reset_index(drop = True)"
   ]
  },
  {
   "cell_type": "code",
   "execution_count": null,
   "id": "2c17c5d3-ea3e-48eb-948d-d8bbd4458fba",
   "metadata": {},
   "outputs": [],
   "source": [
    "con = con.rename(columns = {'Unnamed: 0': 'Year'})"
   ]
  },
  {
   "cell_type": "code",
   "execution_count": null,
   "id": "a1075524-a38c-4574-855a-1f7bf8412555",
   "metadata": {},
   "outputs": [],
   "source": []
  }
 ],
 "metadata": {
  "kernelspec": {
   "display_name": "Python 3 (ipykernel)",
   "language": "python",
   "name": "python3"
  },
  "language_info": {
   "codemirror_mode": {
    "name": "ipython",
    "version": 3
   },
   "file_extension": ".py",
   "mimetype": "text/x-python",
   "name": "python",
   "nbconvert_exporter": "python",
   "pygments_lexer": "ipython3",
   "version": "3.12.4"
  }
 },
 "nbformat": 4,
 "nbformat_minor": 5
}
