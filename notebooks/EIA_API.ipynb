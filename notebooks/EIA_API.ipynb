{
 "cells": [
  {
   "cell_type": "code",
   "execution_count": null,
   "id": "32994494-4aba-408d-a84c-44d1d4edff94",
   "metadata": {},
   "outputs": [],
   "source": [
    "import pandas as pd\n",
    "import matplotlib.pyplot as plt\n",
    "import requests\n",
    "import json"
   ]
  },
  {
   "cell_type": "code",
   "execution_count": null,
   "id": "3e518f40-5f1b-4a5c-97f4-958e60abbe3d",
   "metadata": {},
   "outputs": [],
   "source": [
    "endpoint = 'https://api.eia.gov/v2/electricity/electric-power-operational-data/data/?frequency=monthly&data[0]=consumption-for-eg-btu&facets[location][]=AK&facets[location][]=AL&facets[location][]=AR&facets[location][]=AZ&facets[location][]=CA&facets[location][]=CO&facets[location][]=CT&facets[location][]=DC&facets[location][]=DE&facets[location][]=FL&facets[location][]=GA&facets[location][]=HI&facets[location][]=IA&facets[location][]=ID&facets[location][]=IL&facets[location][]=IN&facets[location][]=KS&facets[location][]=KY&facets[location][]=LA&facets[location][]=MA&facets[location][]=MD&facets[location][]=ME&facets[location][]=MI&facets[location][]=MN&facets[location][]=MO&facets[location][]=MS&facets[location][]=MT&facets[location][]=NC&facets[location][]=ND&facets[location][]=NE&facets[location][]=NH&facets[location][]=NJ&facets[location][]=NM&facets[location][]=NV&facets[location][]=NY&facets[location][]=OH&facets[location][]=OK&facets[location][]=OR&facets[location][]=PA&facets[location][]=RI&facets[location][]=SC&facets[location][]=SD&facets[location][]=TN&facets[location][]=TX&facets[location][]=US&facets[location][]=UT&facets[location][]=VA&facets[location][]=VT&facets[location][]=WA&facets[location][]=WV&facets[location][]=WY&sort[0][column]=period&sort[0][direction]=desc&offset=0&length=5000&api_key=Rg5dZQFanZrXEnG6LzDOB7cvG4yFrt3BUOSttwhB'"
   ]
  },
  {
   "cell_type": "code",
   "execution_count": null,
   "id": "de61bcd6-3e8a-4d46-805d-5d2f9daa1c41",
   "metadata": {},
   "outputs": [],
   "source": [
    "params = {\n",
    "    \"frequency\": \"monthly\",\n",
    "    \"data\": [\n",
    "        \"consumption-for-eg-btu\"\n",
    "    ],\n",
    "    \"facets\": {\n",
    "        \"location\": [\n",
    "            \"AK\",\n",
    "            \"AL\",\n",
    "            \"AR\",\n",
    "            \"AZ\",\n",
    "            \"CA\",\n",
    "            \"CO\",\n",
    "            \"CT\",\n",
    "            \"DC\",\n",
    "            \"DE\",\n",
    "            \"FL\",\n",
    "            \"GA\",\n",
    "            \"HI\",\n",
    "            \"IA\",\n",
    "            \"ID\",\n",
    "            \"IL\",\n",
    "            \"IN\",\n",
    "            \"KS\",\n",
    "            \"KY\",\n",
    "            \"LA\",\n",
    "            \"MA\",\n",
    "            \"MD\",\n",
    "            \"ME\",\n",
    "            \"MI\",\n",
    "            \"MN\",\n",
    "            \"MO\",\n",
    "            \"MS\",\n",
    "            \"MT\",\n",
    "            \"NC\",\n",
    "            \"ND\",\n",
    "            \"NE\",\n",
    "            \"NH\",\n",
    "            \"NJ\",\n",
    "            \"NM\",\n",
    "            \"NV\",\n",
    "            \"NY\",\n",
    "            \"OH\",\n",
    "            \"OK\",\n",
    "            \"OR\",\n",
    "            \"PA\",\n",
    "            \"RI\",\n",
    "            \"SC\",\n",
    "            \"SD\",\n",
    "            \"TN\",\n",
    "            \"TX\",\n",
    "            \"US\",\n",
    "            \"UT\",\n",
    "            \"VA\",\n",
    "            \"VT\",\n",
    "            \"WA\",\n",
    "            \"WV\",\n",
    "            \"WY\"\n",
    "        ]\n",
    "    },\n",
    "    \"start\": \"2003-01\",\n",
    "    \"end\": \"2023-12\",\n",
    "    \"sort\": [\n",
    "        {\n",
    "            \"column\": \"period\",\n",
    "            \"direction\": \"desc\"\n",
    "        }\n",
    "    ],\n",
    "    \"format\": 'json',\n",
    "    \"length\": 5000\n",
    "}"
   ]
  },
  {
   "cell_type": "code",
   "execution_count": null,
   "id": "529d9565-52df-42bf-8af1-62d4041da008",
   "metadata": {},
   "outputs": [],
   "source": [
    "response = requests.get(endpoint)"
   ]
  },
  {
   "cell_type": "code",
   "execution_count": null,
   "id": "04b3481c-c5d4-4dbf-ba3b-7e2f9a51afd3",
   "metadata": {},
   "outputs": [],
   "source": [
    "response"
   ]
  },
  {
   "cell_type": "code",
   "execution_count": null,
   "id": "582ced82-c4f4-4756-abbb-94fcc18784ce",
   "metadata": {},
   "outputs": [],
   "source": [
    "res = response.json()"
   ]
  },
  {
   "cell_type": "code",
   "execution_count": null,
   "id": "0f9e6664-55f5-415b-b586-04919db9b588",
   "metadata": {},
   "outputs": [],
   "source": [
    "res"
   ]
  },
  {
   "cell_type": "code",
   "execution_count": null,
   "id": "faa3d3b0-bbf9-4810-aabd-d1b88e39056e",
   "metadata": {},
   "outputs": [],
   "source": [
    "res.keys()"
   ]
  },
  {
   "cell_type": "code",
   "execution_count": null,
   "id": "17b8283e-dd15-4076-b4fe-c304618beead",
   "metadata": {},
   "outputs": [],
   "source": [
    "res['response']"
   ]
  },
  {
   "cell_type": "code",
   "execution_count": null,
   "id": "2ad0d963-24b6-44ea-9d68-68184defdbfe",
   "metadata": {},
   "outputs": [],
   "source": [
    "res['request']"
   ]
  },
  {
   "cell_type": "code",
   "execution_count": null,
   "id": "99e809c9-9888-4c80-8432-a1459f51507f",
   "metadata": {},
   "outputs": [],
   "source": [
    "pd.DataFrame(response.json())"
   ]
  },
  {
   "cell_type": "code",
   "execution_count": null,
   "id": "dfff52ed-d313-4b6b-a757-9081175725bc",
   "metadata": {},
   "outputs": [],
   "source": [
    "params = {'api_key':'Rg5dZQFanZrXEnG6LzDOB7cvG4yFrt3BUOSttwhB', \n",
    "         'start':'2013-01-01',\n",
    "         'end' : '2023-31-12'}"
   ]
  },
  {
   "cell_type": "code",
   "execution_count": null,
   "id": "a269931a-cca8-45fe-b239-54199a28cfa6",
   "metadata": {},
   "outputs": [],
   "source": [
    "endpoint2 = 'https://api.eia.gov/v2'"
   ]
  },
  {
   "cell_type": "code",
   "execution_count": null,
   "id": "10e9f030-f55d-41fd-9a80-566a2a0decd1",
   "metadata": {},
   "outputs": [],
   "source": [
    "response = requests.get(endpoint2, params = params)"
   ]
  },
  {
   "cell_type": "code",
   "execution_count": null,
   "id": "b541bd77-3755-4a99-bf11-6b2337d577ab",
   "metadata": {},
   "outputs": [],
   "source": [
    "pd.json_normalize(response.json())"
   ]
  },
  {
   "cell_type": "code",
   "execution_count": null,
   "id": "b7d2dca4-94ed-4d14-b350-5cbff0c66297",
   "metadata": {},
   "outputs": [],
   "source": [
    "response.json().keys()"
   ]
  },
  {
   "cell_type": "code",
   "execution_count": null,
   "id": "797a64af-ec5a-4ccd-b0eb-ceb20261cd01",
   "metadata": {},
   "outputs": [],
   "source": [
    "response.json()['response']"
   ]
  },
  {
   "cell_type": "code",
   "execution_count": null,
   "id": "bc040669-6173-4ea5-9e06-656bc8a77989",
   "metadata": {},
   "outputs": [],
   "source": []
  }
 ],
 "metadata": {
  "kernelspec": {
   "display_name": "Python 3 (ipykernel)",
   "language": "python",
   "name": "python3"
  },
  "language_info": {
   "codemirror_mode": {
    "name": "ipython",
    "version": 3
   },
   "file_extension": ".py",
   "mimetype": "text/x-python",
   "name": "python",
   "nbconvert_exporter": "python",
   "pygments_lexer": "ipython3",
   "version": "3.12.4"
  }
 },
 "nbformat": 4,
 "nbformat_minor": 5
}
