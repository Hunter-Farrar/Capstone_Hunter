{
 "cells": [
  {
   "cell_type": "code",
   "execution_count": null,
   "id": "6c7de542-7774-4f87-962f-8445ec11ede8",
   "metadata": {},
   "outputs": [],
   "source": [
    "import pandas as pd\n",
    "import matplotlib.pyplot as plt\n",
    "import seaborn as sns"
   ]
  },
  {
   "cell_type": "code",
   "execution_count": null,
   "id": "9390f034-c63e-4cb2-a73e-1cfe1a7cc23d",
   "metadata": {},
   "outputs": [],
   "source": [
    "states = pd.read_csv('../data/states_data.csv')"
   ]
  },
  {
   "cell_type": "code",
   "execution_count": null,
   "id": "6b3362b5-1ee9-473f-9f99-39fe313571ac",
   "metadata": {},
   "outputs": [],
   "source": [
    "states = states.drop(columns = ['Federal offshore production is not included in the Production Shares.'])"
   ]
  },
  {
   "cell_type": "code",
   "execution_count": null,
   "id": "a3c67801-fe94-4681-9e76-9435901837f2",
   "metadata": {},
   "outputs": [],
   "source": [
    "states"
   ]
  },
  {
   "cell_type": "code",
   "execution_count": null,
   "id": "2e38c870-da0c-4590-b452-cc19992517dc",
   "metadata": {},
   "outputs": [],
   "source": [
    "states.info()"
   ]
  },
  {
   "cell_type": "code",
   "execution_count": null,
   "id": "98fc9acf-019c-42e0-be64-8b65eaa4bd54",
   "metadata": {},
   "outputs": [],
   "source": [
    "states['Production, Rank'] = pd.to_numeric(states['Production, Rank'])"
   ]
  },
  {
   "cell_type": "code",
   "execution_count": null,
   "id": "c7ec6dad-70fc-4704-a670-2d54af7afeb1",
   "metadata": {},
   "outputs": [],
   "source": [
    "states.columns"
   ]
  },
  {
   "cell_type": "code",
   "execution_count": null,
   "id": "aa8caae8-ab8a-4f6c-9bdd-8213c7644324",
   "metadata": {},
   "outputs": [],
   "source": [
    "states = states.rename(columns = {'Production, Rank':'Production_Rank'})"
   ]
  },
  {
   "cell_type": "code",
   "execution_count": null,
   "id": "4e92ae6e-5dca-4066-aa53-a70ca76b0928",
   "metadata": {},
   "outputs": [],
   "source": [
    "production_rank = states.sort_values(by = 'Production_Rank', ascending = True)"
   ]
  },
  {
   "cell_type": "code",
   "execution_count": null,
   "id": "ed9f130c-ae85-4fd5-b8f0-79623b99bbb7",
   "metadata": {},
   "outputs": [],
   "source": [
    "consumption_rank = states.sort_values(by = 'Consumption per Capita, Rank', ascending = True)"
   ]
  },
  {
   "cell_type": "code",
   "execution_count": null,
   "id": "ef20eb2f-a3b0-4320-97e6-a4e39c3e65a4",
   "metadata": {},
   "outputs": [],
   "source": [
    "production_rank = production_rank.reset_index(drop = True).head(5)"
   ]
  },
  {
   "cell_type": "code",
   "execution_count": null,
   "id": "7ae97141-9f6e-40b5-8298-c7aa921fd3d6",
   "metadata": {},
   "outputs": [],
   "source": [
    "production_rank"
   ]
  },
  {
   "cell_type": "markdown",
   "id": "f104f1be-d9e6-4d83-9242-e409462996e1",
   "metadata": {},
   "source": [
    "Production, U.S. Share means how much energy a state produced is X amount of the total of the Nation"
   ]
  },
  {
   "cell_type": "code",
   "execution_count": null,
   "id": "59bb2821-141d-43c0-82f8-eab69eceedaf",
   "metadata": {},
   "outputs": [],
   "source": [
    "consumption_rank = consumption_rank.reset_index(drop = True).head(5)"
   ]
  },
  {
   "cell_type": "code",
   "execution_count": null,
   "id": "a41bf5bf-0053-4e68-bd23-465e640ec65a",
   "metadata": {},
   "outputs": [],
   "source": [
    "production_rank.plot(kind = 'bar',\n",
    "                     x = 'State',\n",
    "                     y = 'Production, U.S. Share',\n",
    "                     figsize = (12,6))\n",
    "plt.title('Top 5 States in Amount of U.S. Total of Energy Production')\n",
    "plt.ylabel('Percentage of Total Produced Energy in the Country');"
   ]
  },
  {
   "cell_type": "code",
   "execution_count": null,
   "id": "4c2a71c7-7d1e-4431-a16d-091370cd9c21",
   "metadata": {},
   "outputs": [],
   "source": [
    "consumption_rank.plot(kind = 'bar',\n",
    "                      x = 'State',\n",
    "                      y = 'Consumption per Capita, Million Btu',\n",
    "                      figsize = (12,6))\n",
    "plt.title('Top 5 States with the Most Amount of Consumed Energy in 2022')\n",
    "plt.ylabel('Amount of Energy Consumed per Capita, Million BTU');"
   ]
  },
  {
   "cell_type": "code",
   "execution_count": null,
   "id": "faeb709a-b30f-44e6-868e-f4f776236f3f",
   "metadata": {},
   "outputs": [],
   "source": [
    "tn = states.loc[states.State == 'TN']"
   ]
  },
  {
   "cell_type": "code",
   "execution_count": null,
   "id": "1dd0e548-d6d5-4939-afd6-a43614614703",
   "metadata": {},
   "outputs": [],
   "source": [
    "tx = states.loc[states.State == 'TX']\n",
    "#tx most wind production in 2022 "
   ]
  },
  {
   "cell_type": "code",
   "execution_count": null,
   "id": "cad17974-6670-444b-8450-96d8200af2b8",
   "metadata": {},
   "outputs": [],
   "source": [
    "wa = states.loc[states.State == 'WA']\n",
    "#wa most hydro production in 2022"
   ]
  },
  {
   "cell_type": "code",
   "execution_count": null,
   "id": "b6158613-14f4-4ca4-afa8-cd4fa86f8e5a",
   "metadata": {},
   "outputs": [],
   "source": [
    "ca = states.loc[states.State == 'CA']\n",
    "#ca most solar production in 2022"
   ]
  },
  {
   "cell_type": "code",
   "execution_count": null,
   "id": "82481ceb-5705-45e4-b413-155a0a81b7b5",
   "metadata": {},
   "outputs": [],
   "source": [
    "tn"
   ]
  },
  {
   "cell_type": "code",
   "execution_count": null,
   "id": "938e02d4-f0fc-4681-90dd-d1b48822037c",
   "metadata": {},
   "outputs": [],
   "source": [
    "tx"
   ]
  },
  {
   "cell_type": "code",
   "execution_count": null,
   "id": "b35da8d1-d112-44a8-9057-9d8217829b7d",
   "metadata": {},
   "outputs": [],
   "source": [
    "wa"
   ]
  },
  {
   "cell_type": "code",
   "execution_count": null,
   "id": "44a3d3c9-2a09-4749-b58e-021911ef3007",
   "metadata": {},
   "outputs": [],
   "source": [
    "ca"
   ]
  },
  {
   "cell_type": "code",
   "execution_count": null,
   "id": "5af97fb7-be76-4dba-92da-cb7c0d10cf13",
   "metadata": {},
   "outputs": [],
   "source": [
    "four = pd.concat([tn, tx, wa, ca])"
   ]
  },
  {
   "cell_type": "code",
   "execution_count": null,
   "id": "48d6b398-e29d-4bb0-a4f9-085d84eabfae",
   "metadata": {},
   "outputs": [],
   "source": [
    "four = four.reset_index(drop = True)"
   ]
  },
  {
   "cell_type": "code",
   "execution_count": null,
   "id": "70439ada-d44b-477e-a9ad-2bab370ab7ea",
   "metadata": {},
   "outputs": [],
   "source": [
    "four"
   ]
  },
  {
   "cell_type": "code",
   "execution_count": null,
   "id": "4d7feecf-b48c-4275-90ea-34d47e30fee7",
   "metadata": {},
   "outputs": [],
   "source": [
    "#four.to_csv(\"four.csv\")"
   ]
  },
  {
   "cell_type": "code",
   "execution_count": null,
   "id": "de2d7ae5-5a0c-4934-9ce2-38584b737735",
   "metadata": {},
   "outputs": [],
   "source": []
  },
  {
   "cell_type": "code",
   "execution_count": null,
   "id": "23000d00-8694-4ff9-bcca-3c2b772f5224",
   "metadata": {},
   "outputs": [],
   "source": []
  },
  {
   "cell_type": "code",
   "execution_count": null,
   "id": "b47aa25a-dcc3-4b0b-927c-1d66bd17d218",
   "metadata": {},
   "outputs": [],
   "source": []
  },
  {
   "cell_type": "code",
   "execution_count": null,
   "id": "2cd875df-8172-4366-8e2c-6bf53c01e27a",
   "metadata": {},
   "outputs": [],
   "source": []
  }
 ],
 "metadata": {
  "kernelspec": {
   "display_name": "Python 3 (ipykernel)",
   "language": "python",
   "name": "python3"
  },
  "language_info": {
   "codemirror_mode": {
    "name": "ipython",
    "version": 3
   },
   "file_extension": ".py",
   "mimetype": "text/x-python",
   "name": "python",
   "nbconvert_exporter": "python",
   "pygments_lexer": "ipython3",
   "version": "3.12.4"
  }
 },
 "nbformat": 4,
 "nbformat_minor": 5
}
