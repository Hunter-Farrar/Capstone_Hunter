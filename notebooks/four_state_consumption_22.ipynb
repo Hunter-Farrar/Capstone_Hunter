{
 "cells": [
  {
   "cell_type": "code",
   "execution_count": null,
   "id": "9a52829a-3a33-4fa5-a835-653b50c080be",
   "metadata": {},
   "outputs": [],
   "source": [
    "import pandas as pd\n",
    "import matplotlib.pyplot as plt\n",
    "import seaborn as sns"
   ]
  },
  {
   "cell_type": "code",
   "execution_count": null,
   "id": "96913eae-5c1e-4cab-bc38-ad0ce58039ba",
   "metadata": {},
   "outputs": [],
   "source": [
    "four_states = pd.read_csv('../data/four_states.csv', skiprows = 5, header = 1)"
   ]
  },
  {
   "cell_type": "markdown",
   "id": "5ab348b0-6466-40f7-8d7d-e611c41bf117",
   "metadata": {},
   "source": [
    "Texas - California - Washington - Tennessee - US"
   ]
  },
  {
   "cell_type": "code",
   "execution_count": null,
   "id": "1e6ac793-6d90-4707-888a-f613aad0ad9c",
   "metadata": {},
   "outputs": [],
   "source": [
    "four_states"
   ]
  },
  {
   "cell_type": "code",
   "execution_count": null,
   "id": "d5fd7b01-d1f6-4578-aa7d-115d30e4bf55",
   "metadata": {},
   "outputs": [],
   "source": [
    "four_states = four_states.loc[four_states.Source == 2022]"
   ]
  },
  {
   "cell_type": "code",
   "execution_count": null,
   "id": "36b24049-dda8-43ae-8a43-ff65e4b9763d",
   "metadata": {},
   "outputs": [],
   "source": [
    "four_states"
   ]
  },
  {
   "cell_type": "code",
   "execution_count": null,
   "id": "50ae195a-a0b3-48b9-bbf5-937d90ea57b6",
   "metadata": {},
   "outputs": [],
   "source": [
    "four_states = four_states.rename(columns = {'Source':'Year', 'EIA, U.S. Energy Information Administration':'TX_Wind_Consumption', 'EIA, U.S. Energy Information Administration.1':'TX_Solar_Consumption', 'EIA, U.S. Energy Information Administration.2':'TX_Hydro_Consumption'})                              "
   ]
  },
  {
   "cell_type": "code",
   "execution_count": null,
   "id": "50070b46-6dd5-49ba-a84d-7170d128c1ca",
   "metadata": {},
   "outputs": [],
   "source": [
    "four_states = four_states.drop(columns = {'Source.1', 'Source.2', 'Source.3', 'Source.4', 'Source.5', 'Source.6', 'Source.7', 'Source.8', 'Source.9', 'Source.10', 'Source.11', 'Source.12', 'Source.13', 'Source.14'})"
   ]
  },
  {
   "cell_type": "code",
   "execution_count": null,
   "id": "f389c3e2-32af-4c4a-b6fd-349bf59e25a4",
   "metadata": {},
   "outputs": [],
   "source": [
    "four_states = four_states.rename(columns = {'EIA, U.S. Energy Information Administration.3':'CA_Wind_Consumption' , 'EIA, U.S. Energy Information Administration.4':'CA_Solar_Consumption' , 'EIA, U.S. Energy Information Administration.5':'CA_Hydro_Consumption' , 'EIA, U.S. Energy Information Administration.6':'WA_Wind_Consumption' , 'EIA, U.S. Energy Information Administration.7':'WA_Solar_Consumption' , 'EIA, U.S. Energy Information Administration.8':'WA_Hydro_Consumption' , 'EIA, U.S. Energy Information Administration.9':'TN_Wind_Consumption' , 'EIA, U.S. Energy Information Administration.10':'TN_Solar_Consumption' , 'EIA, U.S. Energy Information Administration.11':'TN_Hydro_Consumption' , 'EIA, U.S. Energy Information Administration.12':'US_Wind_Consumption' , 'EIA, U.S. Energy Information Administration.13':'US_Solar_Consumption' , 'EIA, U.S. Energy Information Administration.14':'US_Hydro_Consumption'}) "
   ]
  },
  {
   "cell_type": "code",
   "execution_count": null,
   "id": "113c1e2e-12cc-486a-8f86-5308cfb3980d",
   "metadata": {},
   "outputs": [],
   "source": [
    "four_states"
   ]
  },
  {
   "cell_type": "code",
   "execution_count": null,
   "id": "828a17ca-576b-4720-962b-dc8acf6d480f",
   "metadata": {},
   "outputs": [],
   "source": [
    "four_states"
   ]
  },
  {
   "cell_type": "code",
   "execution_count": null,
   "id": "28c9dd4f-3c3d-4513-a368-0e2c1afe9cfa",
   "metadata": {},
   "outputs": [],
   "source": [
    "four_states = pd.to_numeric(four_states['Year'])"
   ]
  },
  {
   "cell_type": "code",
   "execution_count": null,
   "id": "1833d892-3439-4aec-8645-e392ca5d74c4",
   "metadata": {},
   "outputs": [],
   "source": [
    "Wind = four_states.columns = ['Year', 'TX_Wind_Consumption', 'TN_Wind_Consumption', 'CA_Wind_Consumption', 'WA_Wind_Consumption', 'US_Wind_Consumption']"
   ]
  },
  {
   "cell_type": "code",
   "execution_count": null,
   "id": "3e6cc189-9c3d-4525-bb55-e29f08d1d402",
   "metadata": {},
   "outputs": [],
   "source": []
  },
  {
   "cell_type": "code",
   "execution_count": null,
   "id": "5327ebb2-6197-4d6a-a3f1-3b92601c3ba1",
   "metadata": {},
   "outputs": [],
   "source": []
  }
 ],
 "metadata": {
  "kernelspec": {
   "display_name": "Python 3 (ipykernel)",
   "language": "python",
   "name": "python3"
  },
  "language_info": {
   "codemirror_mode": {
    "name": "ipython",
    "version": 3
   },
   "file_extension": ".py",
   "mimetype": "text/x-python",
   "name": "python",
   "nbconvert_exporter": "python",
   "pygments_lexer": "ipython3",
   "version": "3.12.4"
  }
 },
 "nbformat": 4,
 "nbformat_minor": 5
}
