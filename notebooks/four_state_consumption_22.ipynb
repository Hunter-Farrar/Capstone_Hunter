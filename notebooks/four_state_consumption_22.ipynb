{
 "cells": [
  {
   "cell_type": "code",
   "execution_count": null,
   "id": "9a52829a-3a33-4fa5-a835-653b50c080be",
   "metadata": {},
   "outputs": [],
   "source": [
    "import pandas as pd"
   ]
  },
  {
   "cell_type": "code",
   "execution_count": null,
   "id": "96913eae-5c1e-4cab-bc38-ad0ce58039ba",
   "metadata": {},
   "outputs": [],
   "source": [
    "four_states = pd.read_csv('../data/four_states.csv', skiprows = 5, header = 1)"
   ]
  },
  {
   "cell_type": "markdown",
   "id": "5ab348b0-6466-40f7-8d7d-e611c41bf117",
   "metadata": {},
   "source": [
    "Texas - California - Washington - Tennessee - US"
   ]
  },
  {
   "cell_type": "code",
   "execution_count": null,
   "id": "1e6ac793-6d90-4707-888a-f613aad0ad9c",
   "metadata": {},
   "outputs": [],
   "source": [
    "four_states"
   ]
  },
  {
   "cell_type": "code",
   "execution_count": null,
   "id": "d5fd7b01-d1f6-4578-aa7d-115d30e4bf55",
   "metadata": {},
   "outputs": [],
   "source": [
    "four_states = four_states.loc[four_states.Source == 2022]"
   ]
  },
  {
   "cell_type": "code",
   "execution_count": null,
   "id": "36b24049-dda8-43ae-8a43-ff65e4b9763d",
   "metadata": {},
   "outputs": [],
   "source": [
    "four_states"
   ]
  },
  {
   "cell_type": "code",
   "execution_count": null,
   "id": "50070b46-6dd5-49ba-a84d-7170d128c1ca",
   "metadata": {},
   "outputs": [],
   "source": []
  },
  {
   "cell_type": "code",
   "execution_count": null,
   "id": "f389c3e2-32af-4c4a-b6fd-349bf59e25a4",
   "metadata": {},
   "outputs": [],
   "source": []
  },
  {
   "cell_type": "code",
   "execution_count": null,
   "id": "b40eabc5-b94a-4319-8151-95772aea4371",
   "metadata": {},
   "outputs": [],
   "source": []
  },
  {
   "cell_type": "code",
   "execution_count": null,
   "id": "1df6e4f0-8234-4071-9321-a5f48879295a",
   "metadata": {},
   "outputs": [],
   "source": []
  },
  {
   "cell_type": "code",
   "execution_count": null,
   "id": "5327ebb2-6197-4d6a-a3f1-3b92601c3ba1",
   "metadata": {},
   "outputs": [],
   "source": []
  }
 ],
 "metadata": {
  "kernelspec": {
   "display_name": "Python 3 (ipykernel)",
   "language": "python",
   "name": "python3"
  },
  "language_info": {
   "codemirror_mode": {
    "name": "ipython",
    "version": 3
   },
   "file_extension": ".py",
   "mimetype": "text/x-python",
   "name": "python",
   "nbconvert_exporter": "python",
   "pygments_lexer": "ipython3",
   "version": "3.12.4"
  }
 },
 "nbformat": 4,
 "nbformat_minor": 5
}
