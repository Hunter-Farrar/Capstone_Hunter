{
 "cells": [
  {
   "cell_type": "code",
   "execution_count": null,
   "id": "34f270c0-bdc0-48db-ad30-52b0f1783242",
   "metadata": {},
   "outputs": [],
   "source": [
    "import pandas as pd\n",
    "import matplotlib.pyplot as plt\n",
    "import seaborn as sns\n",
    "from datetime import datetime\n",
    "import re\n",
    "import numpy as np"
   ]
  },
  {
   "cell_type": "code",
   "execution_count": null,
   "id": "180928f1-2a6a-49f0-8393-59caedac99e1",
   "metadata": {},
   "outputs": [],
   "source": [
    "energy = pd.read_csv('../data/eia_data.csv')"
   ]
  },
  {
   "cell_type": "code",
   "execution_count": null,
   "id": "f9574f58-7af3-41ad-9b3c-4551f1cf56dd",
   "metadata": {},
   "outputs": [],
   "source": [
    "energy['Description'].value_counts()"
   ]
  },
  {
   "cell_type": "code",
   "execution_count": null,
   "id": "df3359f0-562d-4172-9101-a649846ed71c",
   "metadata": {},
   "outputs": [],
   "source": [
    "Hydro = energy.loc[energy['Description'] == 'Hydroelectric Power Consumption']"
   ]
  },
  {
   "cell_type": "code",
   "execution_count": null,
   "id": "9fdab332-0f0f-4b90-9974-009fbedd1082",
   "metadata": {},
   "outputs": [],
   "source": [
    "Solar = energy.loc[energy['Description'] == 'Solar Energy Consumption']"
   ]
  },
  {
   "cell_type": "code",
   "execution_count": null,
   "id": "31e263f1-5c3b-4978-8b48-c86393c04061",
   "metadata": {},
   "outputs": [],
   "source": [
    "Wind = energy.loc[energy['Description'] == 'Wind Energy Consumption']"
   ]
  },
  {
   "cell_type": "code",
   "execution_count": null,
   "id": "59cb9481-5564-417c-a781-96bcd6881915",
   "metadata": {},
   "outputs": [],
   "source": [
    "Hydro['YYYYMM'] = Hydro['YYYYMM'].astype('string')"
   ]
  },
  {
   "cell_type": "code",
   "execution_count": null,
   "id": "02cd7a4e-d9d4-4d94-b6e5-97448966a5eb",
   "metadata": {},
   "outputs": [],
   "source": [
    "Hydro['YYYYMM'] = Hydro['YYYYMM'] +\"01\""
   ]
  },
  {
   "cell_type": "code",
   "execution_count": null,
   "id": "b6e4db77-3e62-49ac-a425-73df2dc09e45",
   "metadata": {},
   "outputs": [],
   "source": [
    "#Hydro['YYYYMM'] = pd.to_datetime(Hydro['YYYYMM'])"
   ]
  },
  {
   "cell_type": "code",
   "execution_count": null,
   "id": "15c8c935-542b-4065-833f-7579bbc47958",
   "metadata": {},
   "outputs": [],
   "source": [
    "#Hydro.dtypes"
   ]
  },
  {
   "cell_type": "code",
   "execution_count": null,
   "id": "5f515a96-a501-48ab-9723-7583f83912cd",
   "metadata": {},
   "outputs": [],
   "source": [
    "#Hydro['YYYYMM'].head()"
   ]
  },
  {
   "cell_type": "code",
   "execution_count": null,
   "id": "3287062d-8f86-47bb-ad6f-6c1d7e98fad8",
   "metadata": {},
   "outputs": [],
   "source": [
    "#Hydro = datetime.strptime(['YYYYMM'], '%Y%m%d')"
   ]
  },
  {
   "cell_type": "code",
   "execution_count": null,
   "id": "28392947-28a3-413b-bfcc-122fda83190f",
   "metadata": {},
   "outputs": [],
   "source": [
    "# Hydro.YYYYMM().isoformat()"
   ]
  },
  {
   "cell_type": "code",
   "execution_count": null,
   "id": "a3b495ad-8749-4ba0-87bb-70ed228c3298",
   "metadata": {},
   "outputs": [],
   "source": [
    "#Hydro.dtypes"
   ]
  },
  {
   "cell_type": "code",
   "execution_count": null,
   "id": "fb4a981e-2b14-4a2a-a808-aec7d9cc837a",
   "metadata": {},
   "outputs": [],
   "source": [
    "#Hydro['YYYYMM']"
   ]
  },
  {
   "cell_type": "code",
   "execution_count": null,
   "id": "a3e7bd16-f9eb-4854-a9e9-dba027632149",
   "metadata": {},
   "outputs": [],
   "source": [
    "Hydro.loc[Hydro.YYYYMM > '20121201']"
   ]
  },
  {
   "cell_type": "code",
   "execution_count": null,
   "id": "d2b67677-2fe2-48f6-abe2-28ab43b3faca",
   "metadata": {},
   "outputs": [],
   "source": [
    "Solar['YYYYMM'] = Solar['YYYYMM'].astype('string')"
   ]
  },
  {
   "cell_type": "code",
   "execution_count": null,
   "id": "8857b00f-039e-4435-addc-365f5c8e5227",
   "metadata": {},
   "outputs": [],
   "source": [
    "Solar['YYYYMM'] = Solar['YYYYMM'] + \"01\""
   ]
  },
  {
   "cell_type": "code",
   "execution_count": null,
   "id": "d193fe73-1dfd-408a-b950-bb941b30ca7f",
   "metadata": {},
   "outputs": [],
   "source": [
    "Solar.head()"
   ]
  },
  {
   "cell_type": "code",
   "execution_count": null,
   "id": "4f93b65b-7ecd-4b46-8907-0efca10a488c",
   "metadata": {},
   "outputs": [],
   "source": [
    "Wind['YYYYMM'] = Wind['YYYYMM'].astype('string')"
   ]
  },
  {
   "cell_type": "code",
   "execution_count": null,
   "id": "a7695336-ae7e-459d-b13c-d16e7222229e",
   "metadata": {},
   "outputs": [],
   "source": [
    "Wind['YYYYMM'] = Wind['YYYYMM'] + \"01\""
   ]
  },
  {
   "cell_type": "code",
   "execution_count": null,
   "id": "724e3297-3630-44cb-a02d-7260d7fc82fb",
   "metadata": {},
   "outputs": [],
   "source": [
    "Wind.head()"
   ]
  },
  {
   "cell_type": "code",
   "execution_count": null,
   "id": "cfce2226-988c-41bd-bf99-235f10ff8b19",
   "metadata": {},
   "outputs": [],
   "source": [
    "hydro_solar = pd.merge(Hydro, Solar,\n",
    "         left_on = 'YYYYMM', right_on = 'YYYYMM', \n",
    "         how = 'outer')\n",
    "hydro_solar.head()"
   ]
  },
  {
   "cell_type": "code",
   "execution_count": null,
   "id": "394f1b49-d985-44d5-80b4-75603851220a",
   "metadata": {},
   "outputs": [],
   "source": [
    "whs = pd.merge(hydro_solar, Wind,\n",
    "         left_on = 'YYYYMM', right_on = 'YYYYMM',\n",
    "         how = 'outer')\n",
    "whs.head()"
   ]
  },
  {
   "cell_type": "code",
   "execution_count": null,
   "id": "57c76552-2386-451b-939c-41fdb8db371c",
   "metadata": {},
   "outputs": [],
   "source": [
    "whs = whs.rename(columns = {'Value_x':'Hydro_Energy_Consumed', 'Value_y':'Solar_Energy_Consumed', 'Value':'Wind_Energy_Consumed'})\n",
    "whs.head(1)"
   ]
  },
  {
   "cell_type": "code",
   "execution_count": null,
   "id": "49722844-7e35-4395-bc3d-42b79c393bdb",
   "metadata": {},
   "outputs": [],
   "source": [
    "whs = whs.drop(columns = ['Column_Order_x', 'Column_Order_y', 'Column_Order'])"
   ]
  },
  {
   "cell_type": "code",
   "execution_count": null,
   "id": "71f78498-adad-4192-b91f-4a57748a7456",
   "metadata": {},
   "outputs": [],
   "source": [
    "whs = whs.rename(columns = {'YYYYMM':'Date', 'Description_x':'Hydro', 'Description_y':'Solar', 'Description':'Wind'})"
   ]
  },
  {
   "cell_type": "code",
   "execution_count": null,
   "id": "34f87876-9ae2-4795-b962-4c98ac000108",
   "metadata": {},
   "outputs": [],
   "source": [
    "whs.head()"
   ]
  },
  {
   "cell_type": "code",
   "execution_count": null,
   "id": "7bdaf2d3-9c4d-4b86-b5c9-de41b545d759",
   "metadata": {},
   "outputs": [],
   "source": [
    "#pd.to_datetime(whs['Date'])"
   ]
  },
  {
   "cell_type": "code",
   "execution_count": null,
   "id": "e5e50190-77e4-4587-b9f5-713596de2442",
   "metadata": {},
   "outputs": [],
   "source": [
    "whs.loc[whs['Solar_Energy_Consumed'] == 'Not Available']"
   ]
  },
  {
   "cell_type": "code",
   "execution_count": null,
   "id": "9f76f11d-b3aa-48ec-9e82-1c473d458cd6",
   "metadata": {},
   "outputs": [],
   "source": [
    "#whs = pd.to_datetime(whs['Date'])"
   ]
  },
  {
   "cell_type": "code",
   "execution_count": null,
   "id": "23d8d30c-9483-4a2f-880d-77d51480671f",
   "metadata": {},
   "outputs": [],
   "source": [
    "#whs = datetime.strptime(['Date'], '%Y%m%d')"
   ]
  },
  {
   "cell_type": "code",
   "execution_count": null,
   "id": "5bb2cf33-9ed3-4399-a632-365d4e6f6455",
   "metadata": {},
   "outputs": [],
   "source": [
    "#Hydro = datetime.strptime(['YYYYMM'], '%Y%m%d')"
   ]
  },
  {
   "cell_type": "code",
   "execution_count": null,
   "id": "a222abb4-19be-435a-b158-61203de4aafd",
   "metadata": {},
   "outputs": [],
   "source": [
    "#whs['Date'].str.slice(4)"
   ]
  },
  {
   "cell_type": "code",
   "execution_count": null,
   "id": "7e09de40-08e8-48e6-8a88-0afd2f93d171",
   "metadata": {},
   "outputs": [],
   "source": [
    "#whs['Date'] = whs['Date'].str[:4]"
   ]
  },
  {
   "cell_type": "code",
   "execution_count": null,
   "id": "9bae20a3-e3f7-44ee-9002-7e5a6a0ad403",
   "metadata": {},
   "outputs": [],
   "source": [
    "whs.loc[whs['Solar_Energy_Consumed'] == 'Not Available'].tail()"
   ]
  },
  {
   "cell_type": "code",
   "execution_count": null,
   "id": "323c6101-b763-48d9-bb52-9d1fb8858e20",
   "metadata": {},
   "outputs": [],
   "source": [
    "whs = whs.loc[whs['Date'] > '19831301']"
   ]
  },
  {
   "cell_type": "markdown",
   "id": "d593c13f-fcaf-4dd8-833b-18fa8435110a",
   "metadata": {},
   "source": [
    "BTU stands for British Thermal Unit, it is a measure of the heat content of fuels or energy sources. "
   ]
  },
  {
   "cell_type": "code",
   "execution_count": null,
   "id": "7f45ac9c-2c05-48b9-924d-857d7776e363",
   "metadata": {},
   "outputs": [],
   "source": [
    "whs = whs.loc[whs['Date'] < '20240101']"
   ]
  },
  {
   "cell_type": "code",
   "execution_count": null,
   "id": "436570be-035a-4889-8fe5-e8cbeff8e0e6",
   "metadata": {},
   "outputs": [],
   "source": [
    "whs = whs.reset_index(drop = True)"
   ]
  },
  {
   "cell_type": "code",
   "execution_count": null,
   "id": "d24fb195-5d94-4150-ae77-c55c6ea3e3bc",
   "metadata": {},
   "outputs": [],
   "source": [
    "whs_1 = whs"
   ]
  },
  {
   "cell_type": "code",
   "execution_count": null,
   "id": "d5c52be6-8ee8-4d35-9fee-4c018ab6cdb2",
   "metadata": {},
   "outputs": [],
   "source": [
    "whs.tail()"
   ]
  },
  {
   "cell_type": "code",
   "execution_count": null,
   "id": "dc5d5541-94ab-493c-af32-3d2de6d16722",
   "metadata": {},
   "outputs": [],
   "source": [
    "whs_12 = whs.loc[~whs['Date'].str.contains('1301')]"
   ]
  },
  {
   "cell_type": "code",
   "execution_count": null,
   "id": "22e430ed-33e0-486d-9d9f-88f25a1835fd",
   "metadata": {},
   "outputs": [],
   "source": [
    "whs_12 = whs_12.loc[whs_12['Date'] > '20121201']"
   ]
  },
  {
   "cell_type": "code",
   "execution_count": null,
   "id": "a851093a-ea9b-45ed-bfc3-352ec145dc71",
   "metadata": {},
   "outputs": [],
   "source": [
    "whs_12.head()"
   ]
  },
  {
   "cell_type": "code",
   "execution_count": null,
   "id": "b70ac4e5-b1c6-4ac1-acaa-5fc44bbdea2f",
   "metadata": {},
   "outputs": [],
   "source": [
    "whs_12 = whs_12.reset_index(drop = True)"
   ]
  },
  {
   "cell_type": "code",
   "execution_count": null,
   "id": "307848a0-c8f6-4a69-905a-0bdf0cc50b26",
   "metadata": {},
   "outputs": [],
   "source": [
    "whs_12['Date'] = pd.to_datetime(whs_12['Date'], format = '%Y%m%d')"
   ]
  },
  {
   "cell_type": "code",
   "execution_count": null,
   "id": "67ecc878-32c0-43bf-a981-53860e571689",
   "metadata": {},
   "outputs": [],
   "source": [
    "whs_12"
   ]
  },
  {
   "cell_type": "code",
   "execution_count": null,
   "id": "695fba0c-8cd7-491c-ba4e-aef607106a68",
   "metadata": {},
   "outputs": [],
   "source": [
    "whs_2 = whs_1"
   ]
  },
  {
   "cell_type": "code",
   "execution_count": null,
   "id": "a60ff62d-a613-45c3-9326-409ca892946e",
   "metadata": {},
   "outputs": [],
   "source": [
    "whs_2['Month'] = whs_2['Date'].str[4:]"
   ]
  },
  {
   "cell_type": "markdown",
   "id": "eb720d27-63b7-462f-a1b3-643e2f49b118",
   "metadata": {},
   "source": [
    "When the month is 13 then that row is the total amount consumed for the whole year"
   ]
  },
  {
   "cell_type": "code",
   "execution_count": null,
   "id": "b7e982d5-ff7b-426c-b38c-9f495a23287c",
   "metadata": {},
   "outputs": [],
   "source": [
    "whs_1['Year_totals'] = whs_1['Date']"
   ]
  },
  {
   "cell_type": "code",
   "execution_count": null,
   "id": "28fe7d75-0edf-458c-b3a9-f6e776a63cc6",
   "metadata": {},
   "outputs": [],
   "source": [
    "whs_1['Year_totals'] = whs_1['Year_totals'].str[4:]"
   ]
  },
  {
   "cell_type": "code",
   "execution_count": null,
   "id": "60ea4759-0abd-4c23-bd59-07bbd69f44e6",
   "metadata": {},
   "outputs": [],
   "source": [
    "whs_1['Date'] = whs_1['Date'].str[:4]"
   ]
  },
  {
   "cell_type": "code",
   "execution_count": null,
   "id": "d70287c1-d4df-406b-a660-1901cbc93e27",
   "metadata": {},
   "outputs": [],
   "source": [
    "whs_1 = whs_1.rename(columns = {'Date':'Year'})"
   ]
  },
  {
   "cell_type": "code",
   "execution_count": null,
   "id": "d8ef2964-b8fc-4d74-bc57-b0c23c7031a1",
   "metadata": {},
   "outputs": [],
   "source": [
    "whs_2['Date'] = whs_2['Date'].str[:4]"
   ]
  },
  {
   "cell_type": "code",
   "execution_count": null,
   "id": "a2ce741f-03f1-4958-98cc-60f95a8ba2c1",
   "metadata": {},
   "outputs": [],
   "source": [
    "wsh_2 = whs_2.rename(columns = {'Date':'Year'})"
   ]
  },
  {
   "cell_type": "code",
   "execution_count": null,
   "id": "a09c791c-0b7a-4ff9-b9ad-7c32cf4dc11b",
   "metadata": {},
   "outputs": [],
   "source": [
    "yearly_totals = wsh_2.loc[wsh_2.Month == '1301']"
   ]
  },
  {
   "cell_type": "code",
   "execution_count": null,
   "id": "ace9d0a6-f2de-4c15-8bd0-4a9df884d9e9",
   "metadata": {},
   "outputs": [],
   "source": [
    "yearly_totals = yearly_totals.reset_index(drop = True)"
   ]
  },
  {
   "cell_type": "code",
   "execution_count": null,
   "id": "c254a068-38dd-43ef-878b-c5e718b6cec9",
   "metadata": {},
   "outputs": [],
   "source": [
    "yt_13_23 = yearly_totals.loc[yearly_totals['Year'] > '2012']"
   ]
  },
  {
   "cell_type": "code",
   "execution_count": null,
   "id": "98688156-4e42-49e6-8cfd-a57f2c8807fc",
   "metadata": {},
   "outputs": [],
   "source": [
    "yt_13_23 = yt_13_23.reset_index(drop = True)"
   ]
  },
  {
   "cell_type": "code",
   "execution_count": null,
   "id": "7350b4ab-3e55-4415-aa83-c0c20143cab1",
   "metadata": {},
   "outputs": [],
   "source": [
    "yt_13_23.head(11)"
   ]
  },
  {
   "cell_type": "code",
   "execution_count": null,
   "id": "1cd6dc7f-61b4-4e1b-9607-f6d6cc067566",
   "metadata": {},
   "outputs": [],
   "source": [
    "x = np.array([2013, 2014, 2015, 2016, 2017, 2018, 2019, 2020, 2021, 2022, 2023])\n",
    "y = np.array([916.345, 884.959, 849.861, 913.775, 1024.736, 998.092, 982.225, 973.335, 858.407, 869.339, 835.948])\n",
    "\n",
    "plt.plot(x,y)\n",
    "plt.xlabel(\"Year\")\n",
    "plt.ylabel(\"Trillion BTU Consumed\")\n",
    "plt.title(\"Hydroelectric Energy Consumed From 2013-2023\")\n",
    "plt.show()"
   ]
  },
  {
   "cell_type": "code",
   "execution_count": null,
   "id": "58010c29-a1fb-4898-befa-f91929225801",
   "metadata": {},
   "outputs": [],
   "source": [
    "x = np.array([2013, 2014, 2015, 2016, 2017, 2018, 2019, 2020, 2021, 2022, 2023])\n",
    "y = np.array([119.65, 161.05, 196.175, 250.888, 328.623, 383.634, 429.747, 511.315, 626.863, 764.563, 880.325])\n",
    "\n",
    "plt.plot(x,y)\n",
    "plt.xlabel(\"Year\")\n",
    "plt.ylabel(\"Trillion BTU Consumed\")\n",
    "plt.title(\"Solar Energy Consumption From 2013-2023\")\n",
    "plt.show()"
   ]
  },
  {
   "cell_type": "code",
   "execution_count": null,
   "id": "36dc8083-2907-4d76-ac9c-5637a60203a6",
   "metadata": {},
   "outputs": [],
   "source": [
    "x = np.array([2013, 2014, 2015, 2016, 2017, 2018, 2019, 2020, 2021, 2022, 2023])\n",
    "y = np.array([572.669, 619.808, 650.732, 774.499, 867.681, 930.341, 1009.551, 1153.045, 1290.407, 1481.823, 1436.934])\n",
    "\n",
    "plt.plot(x,y)\n",
    "plt.xlabel(\"Year\")\n",
    "plt.ylabel(\"Trillion BTU Consumed\")\n",
    "plt.title(\"Wind Energy Consumed From 2013-2023\")\n",
    "plt.show()"
   ]
  },
  {
   "cell_type": "code",
   "execution_count": null,
   "id": "f09eeb11-be96-4906-9562-3cfebbc0b919",
   "metadata": {},
   "outputs": [],
   "source": [
    "whs_12"
   ]
  },
  {
   "cell_type": "code",
   "execution_count": null,
   "id": "55e7a84d-bf0c-4cc8-98a5-e10bc50ffab7",
   "metadata": {},
   "outputs": [],
   "source": []
  },
  {
   "cell_type": "code",
   "execution_count": null,
   "id": "5c70460e-582d-40bc-a760-a9a9c70d3e1b",
   "metadata": {},
   "outputs": [],
   "source": []
  },
  {
   "cell_type": "code",
   "execution_count": null,
   "id": "0f4cb34a-c559-4b63-bee7-bb3f20633131",
   "metadata": {},
   "outputs": [],
   "source": []
  },
  {
   "cell_type": "code",
   "execution_count": null,
   "id": "01eceb83-7cde-4278-acaa-7d866b7be456",
   "metadata": {},
   "outputs": [],
   "source": []
  },
  {
   "cell_type": "code",
   "execution_count": null,
   "id": "041f2ade-dadf-45cf-a1b6-b951dc7bbc20",
   "metadata": {},
   "outputs": [],
   "source": []
  },
  {
   "cell_type": "code",
   "execution_count": null,
   "id": "eea0c851-2100-420a-b1e8-5d108f36d598",
   "metadata": {},
   "outputs": [],
   "source": []
  },
  {
   "cell_type": "code",
   "execution_count": null,
   "id": "1382ac88-ab8a-4727-a308-fb56fac35b0b",
   "metadata": {},
   "outputs": [],
   "source": []
  },
  {
   "cell_type": "code",
   "execution_count": null,
   "id": "cd5cb325-b406-41fc-b01e-d4825bb643a2",
   "metadata": {},
   "outputs": [],
   "source": []
  },
  {
   "cell_type": "code",
   "execution_count": null,
   "id": "027a64c8-184e-4176-bfa3-af3f0811bde0",
   "metadata": {},
   "outputs": [],
   "source": []
  },
  {
   "cell_type": "code",
   "execution_count": null,
   "id": "1e3ade20-543c-4ffc-add6-e80de8fe4a50",
   "metadata": {},
   "outputs": [],
   "source": []
  },
  {
   "cell_type": "code",
   "execution_count": null,
   "id": "a96f7c53-fc24-4e46-90b8-c176dce08f3e",
   "metadata": {},
   "outputs": [],
   "source": []
  },
  {
   "cell_type": "code",
   "execution_count": null,
   "id": "43fbb689-6cd0-42b0-9b26-d74015677661",
   "metadata": {},
   "outputs": [],
   "source": []
  },
  {
   "cell_type": "code",
   "execution_count": null,
   "id": "bb27efd2-abb3-4eeb-a236-e52ad70a9763",
   "metadata": {},
   "outputs": [],
   "source": []
  }
 ],
 "metadata": {
  "kernelspec": {
   "display_name": "Python 3 (ipykernel)",
   "language": "python",
   "name": "python3"
  },
  "language_info": {
   "codemirror_mode": {
    "name": "ipython",
    "version": 3
   },
   "file_extension": ".py",
   "mimetype": "text/x-python",
   "name": "python",
   "nbconvert_exporter": "python",
   "pygments_lexer": "ipython3",
   "version": "3.12.4"
  }
 },
 "nbformat": 4,
 "nbformat_minor": 5
}
