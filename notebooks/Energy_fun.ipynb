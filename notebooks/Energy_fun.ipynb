{
 "cells": [
  {
   "cell_type": "code",
   "execution_count": null,
   "id": "34f270c0-bdc0-48db-ad30-52b0f1783242",
   "metadata": {},
   "outputs": [],
   "source": [
    "import pandas as pd"
   ]
  },
  {
   "cell_type": "code",
   "execution_count": null,
   "id": "180928f1-2a6a-49f0-8393-59caedac99e1",
   "metadata": {},
   "outputs": [],
   "source": [
    "energy = pd.read_csv('../data/eia_data.csv')"
   ]
  },
  {
   "cell_type": "code",
   "execution_count": null,
   "id": "f9574f58-7af3-41ad-9b3c-4551f1cf56dd",
   "metadata": {},
   "outputs": [],
   "source": [
    "energy['Description'].value_counts()"
   ]
  },
  {
   "cell_type": "code",
   "execution_count": null,
   "id": "df3359f0-562d-4172-9101-a649846ed71c",
   "metadata": {},
   "outputs": [],
   "source": [
    "Hydro = energy.loc[energy['Description'] == 'Hydroelectric Power Consumption']"
   ]
  },
  {
   "cell_type": "code",
   "execution_count": null,
   "id": "02cd7a4e-d9d4-4d94-b6e5-97448966a5eb",
   "metadata": {},
   "outputs": [],
   "source": [
    "Hydro['YYYYMM']"
   ]
  },
  {
   "cell_type": "code",
   "execution_count": null,
   "id": "52f2e0d8-afbc-4eab-8ecd-4ac116b457b5",
   "metadata": {},
   "outputs": [],
   "source": []
  }
 ],
 "metadata": {
  "kernelspec": {
   "display_name": "Python 3 (ipykernel)",
   "language": "python",
   "name": "python3"
  },
  "language_info": {
   "codemirror_mode": {
    "name": "ipython",
    "version": 3
   },
   "file_extension": ".py",
   "mimetype": "text/x-python",
   "name": "python",
   "nbconvert_exporter": "python",
   "pygments_lexer": "ipython3",
   "version": "3.12.4"
  }
 },
 "nbformat": 4,
 "nbformat_minor": 5
}
